{
  "nbformat": 4,
  "nbformat_minor": 0,
  "metadata": {
    "kernelspec": {
      "language": "python",
      "display_name": "Python 3",
      "name": "python3"
    },
    "language_info": {
      "pygments_lexer": "ipython3",
      "nbconvert_exporter": "python",
      "version": "3.6.4",
      "file_extension": ".py",
      "codemirror_mode": {
        "name": "ipython",
        "version": 3
      },
      "name": "python",
      "mimetype": "text/x-python"
    },
    "colab": {
      "provenance": [],
      "include_colab_link": true
    },
    "accelerator": "GPU"
  },
  "cells": [
    {
      "cell_type": "markdown",
      "metadata": {
        "id": "view-in-github",
        "colab_type": "text"
      },
      "source": [
        "<a href=\"https://colab.research.google.com/github/Bhavay192/Bitcoin-Price-Prediction/blob/main/Bitcoin_Price_Prediction.ipynb\" target=\"_parent\"><img src=\"https://colab.research.google.com/assets/colab-badge.svg\" alt=\"Open In Colab\"/></a>"
      ]
    },
    {
      "cell_type": "markdown",
      "source": [
        "## *Importing Libraries*"
      ],
      "metadata": {
        "id": "qvvJsYC-COMk"
      }
    },
    {
      "cell_type": "code",
      "metadata": {
        "id": "NeWVBhf1VxlH",
        "colab": {
          "base_uri": "https://localhost:8080/"
        },
        "outputId": "dfad9c11-4a41-4367-a6d8-8121228a31eb"
      },
      "source": [
        "%tensorflow_version 2.x\n",
        "import json\n",
        "import requests\n",
        "from keras.models import Sequential\n",
        "from keras.layers import Activation, Dense, Dropout, LSTM, GRU\n",
        "import matplotlib.pyplot as plt\n",
        "import numpy as np\n",
        "import pandas as pd\n",
        "import seaborn as sns\n",
        "from sklearn.metrics import mean_absolute_error\n",
        "from sklearn import model_selection\n",
        "from sklearn.svm import SVR\n",
        "from statsmodels.tsa.arima_model import ARIMA \n",
        "%matplotlib inline"
      ],
      "execution_count": 1,
      "outputs": [
        {
          "output_type": "stream",
          "name": "stdout",
          "text": [
            "Colab only includes TensorFlow 2.x; %tensorflow_version has no effect.\n"
          ]
        }
      ]
    },
    {
      "cell_type": "markdown",
      "source": [
        "## *Downloading and loading data*"
      ],
      "metadata": {
        "id": "4P2EZfl_ChMc"
      }
    },
    {
      "cell_type": "code",
      "metadata": {
        "_uuid": "d629ff2d2480ee46fbb7e2d37f6b5fab8052498a",
        "_cell_guid": "79c7e3d0-c299-4dcb-8224-4455121ee9b0",
        "trusted": true,
        "id": "6W__OM92pskF"
      },
      "source": [
        "endpoint = 'https://min-api.cryptocompare.com/data/histoday'\n",
        "res = requests.get(endpoint + '?fsym=BTC&tsym=USD&limit=500')\n",
        "hist_df = pd.DataFrame(json.loads(res.content)['Data'])\n",
        "hist_df = hist_df.set_index('time')\n",
        "hist_df.index = pd.to_datetime(hist_df.index, unit='s')\n",
        "target_col = 'close'\n",
        "hist = hist_df.drop(labels = ['conversionSymbol','conversionType'], axis=1)"
      ],
      "execution_count": 2,
      "outputs": []
    },
    {
      "cell_type": "code",
      "source": [
        "hist.head(5)"
      ],
      "metadata": {
        "colab": {
          "base_uri": "https://localhost:8080/",
          "height": 237
        },
        "id": "0Sg5QFxKfMtR",
        "outputId": "f12a28e6-2287-4453-f5de-fa9c2217b265"
      },
      "execution_count": 5,
      "outputs": [
        {
          "output_type": "execute_result",
          "data": {
            "text/plain": [
              "                high       low      open  volumefrom      volumeto     close\n",
              "time                                                                        \n",
              "2021-08-04  39961.11  37526.24  38189.30    34035.77  1.318984e+09  39738.56\n",
              "2021-08-05  41409.14  37330.04  39738.56    59748.14  2.357832e+09  40888.18\n",
              "2021-08-06  43363.62  39895.05  40888.18    48254.57  2.009168e+09  42852.18\n",
              "2021-08-07  44731.51  42473.57  42852.18    50446.88  2.199730e+09  44617.96\n",
              "2021-08-08  45310.33  43300.59  44617.96    39433.62  1.745879e+09  43827.75"
            ],
            "text/html": [
              "\n",
              "  <div id=\"df-25477c22-6efc-498e-978b-ee4fe7d88c54\">\n",
              "    <div class=\"colab-df-container\">\n",
              "      <div>\n",
              "<style scoped>\n",
              "    .dataframe tbody tr th:only-of-type {\n",
              "        vertical-align: middle;\n",
              "    }\n",
              "\n",
              "    .dataframe tbody tr th {\n",
              "        vertical-align: top;\n",
              "    }\n",
              "\n",
              "    .dataframe thead th {\n",
              "        text-align: right;\n",
              "    }\n",
              "</style>\n",
              "<table border=\"1\" class=\"dataframe\">\n",
              "  <thead>\n",
              "    <tr style=\"text-align: right;\">\n",
              "      <th></th>\n",
              "      <th>high</th>\n",
              "      <th>low</th>\n",
              "      <th>open</th>\n",
              "      <th>volumefrom</th>\n",
              "      <th>volumeto</th>\n",
              "      <th>close</th>\n",
              "    </tr>\n",
              "    <tr>\n",
              "      <th>time</th>\n",
              "      <th></th>\n",
              "      <th></th>\n",
              "      <th></th>\n",
              "      <th></th>\n",
              "      <th></th>\n",
              "      <th></th>\n",
              "    </tr>\n",
              "  </thead>\n",
              "  <tbody>\n",
              "    <tr>\n",
              "      <th>2021-08-04</th>\n",
              "      <td>39961.11</td>\n",
              "      <td>37526.24</td>\n",
              "      <td>38189.30</td>\n",
              "      <td>34035.77</td>\n",
              "      <td>1.318984e+09</td>\n",
              "      <td>39738.56</td>\n",
              "    </tr>\n",
              "    <tr>\n",
              "      <th>2021-08-05</th>\n",
              "      <td>41409.14</td>\n",
              "      <td>37330.04</td>\n",
              "      <td>39738.56</td>\n",
              "      <td>59748.14</td>\n",
              "      <td>2.357832e+09</td>\n",
              "      <td>40888.18</td>\n",
              "    </tr>\n",
              "    <tr>\n",
              "      <th>2021-08-06</th>\n",
              "      <td>43363.62</td>\n",
              "      <td>39895.05</td>\n",
              "      <td>40888.18</td>\n",
              "      <td>48254.57</td>\n",
              "      <td>2.009168e+09</td>\n",
              "      <td>42852.18</td>\n",
              "    </tr>\n",
              "    <tr>\n",
              "      <th>2021-08-07</th>\n",
              "      <td>44731.51</td>\n",
              "      <td>42473.57</td>\n",
              "      <td>42852.18</td>\n",
              "      <td>50446.88</td>\n",
              "      <td>2.199730e+09</td>\n",
              "      <td>44617.96</td>\n",
              "    </tr>\n",
              "    <tr>\n",
              "      <th>2021-08-08</th>\n",
              "      <td>45310.33</td>\n",
              "      <td>43300.59</td>\n",
              "      <td>44617.96</td>\n",
              "      <td>39433.62</td>\n",
              "      <td>1.745879e+09</td>\n",
              "      <td>43827.75</td>\n",
              "    </tr>\n",
              "  </tbody>\n",
              "</table>\n",
              "</div>\n",
              "      <button class=\"colab-df-convert\" onclick=\"convertToInteractive('df-25477c22-6efc-498e-978b-ee4fe7d88c54')\"\n",
              "              title=\"Convert this dataframe to an interactive table.\"\n",
              "              style=\"display:none;\">\n",
              "        \n",
              "  <svg xmlns=\"http://www.w3.org/2000/svg\" height=\"24px\"viewBox=\"0 0 24 24\"\n",
              "       width=\"24px\">\n",
              "    <path d=\"M0 0h24v24H0V0z\" fill=\"none\"/>\n",
              "    <path d=\"M18.56 5.44l.94 2.06.94-2.06 2.06-.94-2.06-.94-.94-2.06-.94 2.06-2.06.94zm-11 1L8.5 8.5l.94-2.06 2.06-.94-2.06-.94L8.5 2.5l-.94 2.06-2.06.94zm10 10l.94 2.06.94-2.06 2.06-.94-2.06-.94-.94-2.06-.94 2.06-2.06.94z\"/><path d=\"M17.41 7.96l-1.37-1.37c-.4-.4-.92-.59-1.43-.59-.52 0-1.04.2-1.43.59L10.3 9.45l-7.72 7.72c-.78.78-.78 2.05 0 2.83L4 21.41c.39.39.9.59 1.41.59.51 0 1.02-.2 1.41-.59l7.78-7.78 2.81-2.81c.8-.78.8-2.07 0-2.86zM5.41 20L4 18.59l7.72-7.72 1.47 1.35L5.41 20z\"/>\n",
              "  </svg>\n",
              "      </button>\n",
              "      \n",
              "  <style>\n",
              "    .colab-df-container {\n",
              "      display:flex;\n",
              "      flex-wrap:wrap;\n",
              "      gap: 12px;\n",
              "    }\n",
              "\n",
              "    .colab-df-convert {\n",
              "      background-color: #E8F0FE;\n",
              "      border: none;\n",
              "      border-radius: 50%;\n",
              "      cursor: pointer;\n",
              "      display: none;\n",
              "      fill: #1967D2;\n",
              "      height: 32px;\n",
              "      padding: 0 0 0 0;\n",
              "      width: 32px;\n",
              "    }\n",
              "\n",
              "    .colab-df-convert:hover {\n",
              "      background-color: #E2EBFA;\n",
              "      box-shadow: 0px 1px 2px rgba(60, 64, 67, 0.3), 0px 1px 3px 1px rgba(60, 64, 67, 0.15);\n",
              "      fill: #174EA6;\n",
              "    }\n",
              "\n",
              "    [theme=dark] .colab-df-convert {\n",
              "      background-color: #3B4455;\n",
              "      fill: #D2E3FC;\n",
              "    }\n",
              "\n",
              "    [theme=dark] .colab-df-convert:hover {\n",
              "      background-color: #434B5C;\n",
              "      box-shadow: 0px 1px 3px 1px rgba(0, 0, 0, 0.15);\n",
              "      filter: drop-shadow(0px 1px 2px rgba(0, 0, 0, 0.3));\n",
              "      fill: #FFFFFF;\n",
              "    }\n",
              "  </style>\n",
              "\n",
              "      <script>\n",
              "        const buttonEl =\n",
              "          document.querySelector('#df-25477c22-6efc-498e-978b-ee4fe7d88c54 button.colab-df-convert');\n",
              "        buttonEl.style.display =\n",
              "          google.colab.kernel.accessAllowed ? 'block' : 'none';\n",
              "\n",
              "        async function convertToInteractive(key) {\n",
              "          const element = document.querySelector('#df-25477c22-6efc-498e-978b-ee4fe7d88c54');\n",
              "          const dataTable =\n",
              "            await google.colab.kernel.invokeFunction('convertToInteractive',\n",
              "                                                     [key], {});\n",
              "          if (!dataTable) return;\n",
              "\n",
              "          const docLinkHtml = 'Like what you see? Visit the ' +\n",
              "            '<a target=\"_blank\" href=https://colab.research.google.com/notebooks/data_table.ipynb>data table notebook</a>'\n",
              "            + ' to learn more about interactive tables.';\n",
              "          element.innerHTML = '';\n",
              "          dataTable['output_type'] = 'display_data';\n",
              "          await google.colab.output.renderOutput(dataTable, element);\n",
              "          const docLink = document.createElement('div');\n",
              "          docLink.innerHTML = docLinkHtml;\n",
              "          element.appendChild(docLink);\n",
              "        }\n",
              "      </script>\n",
              "    </div>\n",
              "  </div>\n",
              "  "
            ]
          },
          "metadata": {},
          "execution_count": 5
        }
      ]
    },
    {
      "cell_type": "markdown",
      "source": [
        "## *Splitting data*"
      ],
      "metadata": {
        "id": "RrtjAn6lCwyy"
      }
    },
    {
      "cell_type": "code",
      "metadata": {
        "trusted": true,
        "id": "0Ykh8CHfpskJ"
      },
      "source": [
        "def train_test_split(df, test_size=0.2):\n",
        "    split_row = len(df) - int(test_size * len(df))\n",
        "    train_data = df.iloc[:split_row]\n",
        "    test_data = df.iloc[split_row:]\n",
        "    return train_data, test_data"
      ],
      "execution_count": 6,
      "outputs": []
    },
    {
      "cell_type": "code",
      "metadata": {
        "trusted": true,
        "id": "PWKGJlxIpskM"
      },
      "source": [
        "train, test = train_test_split(hist, test_size=0.2)"
      ],
      "execution_count": 7,
      "outputs": []
    },
    {
      "cell_type": "code",
      "metadata": {
        "trusted": true,
        "id": "jqfrJbQhpskP"
      },
      "source": [
        "def line_plot(line1, line2, label1=None, label2=None, title='', lw=2):\n",
        "    fig, ax = plt.subplots(1, figsize=(13, 7))\n",
        "    ax.plot(line1, label=label1, linewidth=lw)\n",
        "    ax.plot(line2, label=label2, linewidth=lw)\n",
        "    ax.set_ylabel('price [USD]', fontsize=14)\n",
        "    ax.set_title(title, fontsize=16)\n",
        "    ax.legend(loc='best', fontsize=16);"
      ],
      "execution_count": 8,
      "outputs": []
    },
    {
      "cell_type": "code",
      "metadata": {
        "trusted": true,
        "id": "9F_YTCCxpskS",
        "outputId": "25091d21-d916-4f69-a97d-9fda800fe38d",
        "colab": {
          "base_uri": "https://localhost:8080/",
          "height": 431
        }
      },
      "source": [
        "line_plot(train[target_col], test[target_col], 'training', 'test', title='')"
      ],
      "execution_count": 9,
      "outputs": [
        {
          "output_type": "display_data",
          "data": {
            "text/plain": [
              "<Figure size 936x504 with 1 Axes>"
            ],
            "image/png": "[encoded data removed]"
          },
          "metadata": {
            "needs_background": "light"
          }
        }
      ]
    },
    {
      "cell_type": "markdown",
      "source": [
        "## *Preparing data*"
      ],
      "metadata": {
        "id": "S5oOjhKwC2jQ"
      }
    },
    {
      "cell_type": "code",
      "metadata": {
        "trusted": true,
        "id": "iy-je3_bpskb"
      },
      "source": [
        "def normalise_zero_base(df):\n",
        "    return df / df.iloc[0] - 1\n",
        "\n",
        "def normalise_min_max(df):\n",
        "    return (df - df.min()) / (df.max() - df.min())"
      ],
      "execution_count": 10,
      "outputs": []
    },
    {
      "cell_type": "code",
      "metadata": {
        "trusted": true,
        "id": "zteL5amIpskh"
      },
      "source": [
        "def extract_window_data(df, window_len=5, zero_base=True):\n",
        "    window_data = []\n",
        "    for idx in range(len(df) - window_len):\n",
        "        tmp = df[idx: (idx + window_len)].copy()\n",
        "        if zero_base:\n",
        "            tmp = normalise_zero_base(tmp)\n",
        "        window_data.append(tmp.values)\n",
        "    return np.array(window_data)"
      ],
      "execution_count": 11,
      "outputs": []
    },
    {
      "cell_type": "code",
      "metadata": {
        "trusted": true,
        "id": "aTBbhnezpskk"
      },
      "source": [
        "def prepare_data(df, target_col, window_len=10, zero_base=True, test_size=0.2):\n",
        "    train_data, test_data = train_test_split(df, test_size=test_size)\n",
        "    X_train = extract_window_data(train_data, window_len, zero_base)\n",
        "    X_test = extract_window_data(test_data, window_len, zero_base)\n",
        "    y_train = train_data[target_col][window_len:].values\n",
        "    y_test = test_data[target_col][window_len:].values\n",
        "    if zero_base:\n",
        "        y_train = y_train / train_data[target_col][:-window_len].values - 1\n",
        "        y_test = y_test / test_data[target_col][:-window_len].values - 1\n",
        "\n",
        "    return train_data, test_data, X_train, X_test, y_train, y_test"
      ],
      "execution_count": 12,
      "outputs": []
    },
    {
      "cell_type": "markdown",
      "source": [
        "## *Models*"
      ],
      "metadata": {
        "id": "3IURXvXDC8eG"
      }
    },
    {
      "cell_type": "code",
      "metadata": {
        "trusted": true,
        "id": "VjWtS2qJpskn"
      },
      "source": [
        "def build_lstm_model(input_data, output_size, neurons=100, activ_func='linear',\n",
        "                     dropout=0.2, loss='mse', optimizer='adam'):\n",
        "    model = Sequential()\n",
        "    model.add(LSTM(neurons, input_shape=(input_data.shape[1], input_data.shape[2]), go_backwards=True))\n",
        "    model.add(Dropout(dropout))\n",
        "    model.add(Dense(units=output_size))\n",
        "    model.add(Activation(activ_func))\n",
        "\n",
        "    model.compile(loss=loss, optimizer=optimizer)\n",
        "    return model"
      ],
      "execution_count": 13,
      "outputs": []
    },
    {
      "cell_type": "code",
      "source": [
        "def build_gru_model(input_data, output_size, neurons=100, activ_func='linear',\n",
        "                    dropout=0.2, loss='mse', optimizer='adam'):\n",
        "  model = Sequential()\n",
        "  model.add(GRU(neurons, input_shape=(input_data.shape[1], input_data.shape[2])))\n",
        "  model.add(Dropout(dropout))\n",
        "  model.add(Dense(neurons, activation='relu'))\n",
        "  model.add(Dropout(dropout))\n",
        "  model.add(Dense(units=output_size))\n",
        "  model.add(Activation(activ_func))\n",
        "\n",
        "  model.compile(loss=loss, optimizer=optimizer)\n",
        "  return model"
      ],
      "metadata": {
        "id": "_gdH_ocUEROY"
      },
      "execution_count": 14,
      "outputs": []
    },
    {
      "cell_type": "code",
      "source": [
        "def build_svm_model(C, kernel, gamma):\n",
        "  svm_model = SVR(C = C, kernel = kernel, gamma = gamma)\n",
        "  return svm_model"
      ],
      "metadata": {
        "id": "klHNPmsggfbD"
      },
      "execution_count": 15,
      "outputs": []
    },
    {
      "cell_type": "code",
      "source": [
        "def ArimaForecasting(actual, p, d, q):\n",
        "  model = ARIMA(actual, order=(p,d,q))\n",
        "  result = model.fit(disp=0)\n",
        "  prediction = result.forecast()[0]\n",
        "  return prediction"
      ],
      "metadata": {
        "id": "T8xv5uJK9yx8"
      },
      "execution_count": 20,
      "outputs": []
    },
    {
      "cell_type": "markdown",
      "source": [
        "## *Training*"
      ],
      "metadata": {
        "id": "qLscujs2DCab"
      }
    },
    {
      "cell_type": "code",
      "metadata": {
        "trusted": true,
        "id": "aADcao3Qpskq"
      },
      "source": [
        "np.random.seed(42)\n",
        "window_len = 5\n",
        "test_size = 0.2\n",
        "zero_base = True\n",
        "lstm_neurons = 100\n",
        "gru_neurons = 120\n",
        "epochs = 33\n",
        "batch_size = 32\n",
        "loss = 'mse'\n",
        "dropout = 0.2\n",
        "optimizer = 'adam'"
      ],
      "execution_count": 16,
      "outputs": []
    },
    {
      "cell_type": "code",
      "metadata": {
        "trusted": true,
        "id": "rAw5VBtwpskt"
      },
      "source": [
        "train, test, X_train, X_test, y_train, y_test = prepare_data(\n",
        "    hist, target_col, window_len=window_len, zero_base=zero_base, test_size=test_size)"
      ],
      "execution_count": 17,
      "outputs": []
    },
    {
      "cell_type": "code",
      "source": [
        "model_gru = build_gru_model(\n",
        "    X_train, output_size=1, neurons=gru_neurons, dropout=dropout, loss=loss, optimizer=optimizer)\n",
        "\n",
        "\n",
        "history_gru = model_gru.fit(\n",
        "    X_train, y_train, epochs=epochs, batch_size=batch_size, verbose=1, shuffle=True\n",
        ")"
      ],
      "metadata": {
        "id": "50e7A91jGO3w"
      },
      "execution_count": null,
      "outputs": []
    },
    {
      "cell_type": "code",
      "metadata": {
        "trusted": true,
        "id": "E5T9OAwQpskw"
      },
      "source": [
        "model_lstm = build_lstm_model(\n",
        "    X_train, output_size=1, neurons=lstm_neurons, dropout=dropout, loss=loss,\n",
        "    optimizer=optimizer)\n",
        "history = model_lstm.fit(\n",
        "    X_train, y_train, epochs=epochs, batch_size=batch_size, verbose=1, shuffle=True)"
      ],
      "execution_count": null,
      "outputs": []
    },
    {
      "cell_type": "markdown",
      "source": [
        "## *Evaluation*"
      ],
      "metadata": {
        "id": "QiQ3wQxBDKr-"
      }
    },
    {
      "cell_type": "code",
      "source": [
        "variable = hist['high']\n",
        "predicted = ArimaForecasting(variable, 1, 1, 0)\n",
        "print(predicted)"
      ],
      "metadata": {
        "id": "iO0GZkMp91XW"
      },
      "execution_count": null,
      "outputs": []
    },
    {
      "cell_type": "code",
      "metadata": {
        "trusted": true,
        "id": "mS6SPIGNpskz"
      },
      "source": [
        "targets = test[target_col][window_len:]\n",
        "preds_lstm = model_lstm.predict(X_test).squeeze()\n",
        "mean_absolute_error(preds_lstm, y_test)"
      ],
      "execution_count": null,
      "outputs": []
    },
    {
      "cell_type": "code",
      "source": [
        "targets = test[target_col][window_len:]\n",
        "preds_gru = model_gru.predict(X_test).squeeze()\n",
        "mean_absolute_error(preds_gru, y_test)"
      ],
      "metadata": {
        "id": "AYCQB-7UMTPZ"
      },
      "execution_count": null,
      "outputs": []
    },
    {
      "cell_type": "markdown",
      "source": [
        "## *Plotting Results*"
      ],
      "metadata": {
        "id": "5yi1ueduDQkg"
      }
    },
    {
      "cell_type": "code",
      "source": [
        "preds = test[target_col].values[:-window_len] * (preds_lstm + 1)\n",
        "preds = pd.Series(index=targets.index, data=preds)\n",
        "line_plot(targets, preds, 'actual', 'prediction', lw=3)"
      ],
      "metadata": {
        "id": "jH4vq1M0B2KN"
      },
      "execution_count": null,
      "outputs": []
    },
    {
      "cell_type": "code",
      "source": [
        "preds = test[target_col].values[:-window_len] * (preds_gru + 1)\n",
        "preds = pd.Series(index=targets.index, data=preds)\n",
        "line_plot(targets, preds, 'actual', 'prediction', lw=3)"
      ],
      "metadata": {
        "id": "DP7Qn8V3B6sw"
      },
      "execution_count": null,
      "outputs": []
    }
  ]
}